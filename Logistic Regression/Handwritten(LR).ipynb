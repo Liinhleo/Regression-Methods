{
  "nbformat": 4,
  "nbformat_minor": 0,
  "metadata": {
    "colab": {
      "name": "Handwritten(LR).ipynb",
      "provenance": [],
      "collapsed_sections": []
    },
    "kernelspec": {
      "name": "python3",
      "display_name": "Python 3"
    }
  },
  "cells": [
    {
      "cell_type": "code",
      "metadata": {
        "id": "JOOE3fl-V52M",
        "colab_type": "code",
        "outputId": "015a5dbc-ad03-4a7f-b09e-62832bff19ee",
        "colab": {
          "base_uri": "https://localhost:8080/",
          "height": 54
        }
      },
      "source": [
        "from google.colab import drive\n",
        "drive.mount('/content/drive')"
      ],
      "execution_count": 6,
      "outputs": [
        {
          "output_type": "stream",
          "text": [
            "Drive already mounted at /content/drive; to attempt to forcibly remount, call drive.mount(\"/content/drive\", force_remount=True).\n"
          ],
          "name": "stdout"
        }
      ]
    },
    {
      "cell_type": "code",
      "metadata": {
        "id": "BrfCbiSMWSKz",
        "colab_type": "code",
        "colab": {}
      },
      "source": [
        "import pandas as pd\n",
        "import numpy as np\n",
        "import matplotlib.pyplot as plt\n",
        "import seaborn as sns\n",
        "from sklearn.neighbors import KNeighborsClassifier\n",
        "from sklearn.metrics import accuracy_score, confusion_matrix\n",
        "from sklearn.preprocessing import StandardScaler"
      ],
      "execution_count": 0,
      "outputs": []
    },
    {
      "cell_type": "code",
      "metadata": {
        "id": "cLCfL-ZMWSNR",
        "colab_type": "code",
        "colab": {}
      },
      "source": [
        "import tensorflow as tf\n",
        "from tensorflow import keras\n",
        "dataset = keras.datasets.mnist"
      ],
      "execution_count": 0,
      "outputs": []
    },
    {
      "cell_type": "code",
      "metadata": {
        "id": "dUxurVwsWSPo",
        "colab_type": "code",
        "colab": {}
      },
      "source": [
        "(X_train_f, Y_train_f), (X_test_f, Y_test_f) = dataset.load_data()"
      ],
      "execution_count": 0,
      "outputs": []
    },
    {
      "cell_type": "code",
      "metadata": {
        "id": "5tCJgoKyWSRz",
        "colab_type": "code",
        "outputId": "b93229a8-e92c-4b25-d388-9700326d8672",
        "colab": {
          "base_uri": "https://localhost:8080/",
          "height": 50
        }
      },
      "source": [
        "# Lấy toàn bộ dữ liệu từ keras (train: 60000 - test:)\n",
        "print(X_train_f.shape[0],'train sample')\n",
        "print(X_test_f.shape[0],'test sample')"
      ],
      "execution_count": 10,
      "outputs": [
        {
          "output_type": "stream",
          "text": [
            "60000 train sample\n",
            "10000 test sample\n"
          ],
          "name": "stdout"
        }
      ]
    },
    {
      "cell_type": "code",
      "metadata": {
        "id": "S4O-jPz9WST4",
        "colab_type": "code",
        "colab": {}
      },
      "source": [
        "# Cắt lấy 1 phần bộ dữ liệu từ keras (train: 600 - test: 100)\n",
        "X_train=X_train_f[:600,:]\n",
        "Y_train = Y_train_f[:600]\n",
        "X_test = X_test_f[:100, :]\n",
        "Y_test = Y_test_f[:100]\n",
        "\n",
        "# 1 ảnh là 1 ma trận trọng số - ảnh càng rõ, màu (phân biệt) càng nổi bật\n",
        "# Định dạng ảnh : 28x28 -> train: 600x28x28 ; test: 100x28x28"
      ],
      "execution_count": 0,
      "outputs": []
    },
    {
      "cell_type": "code",
      "metadata": {
        "id": "vT9eJMk2WSWG",
        "colab_type": "code",
        "colab": {
          "base_uri": "https://localhost:8080/",
          "height": 487
        },
        "outputId": "cf29f1e8-1d3e-49b4-91ec-4d3770c92fb2"
      },
      "source": [
        "# nhãn test (số thực tế đc phân tách từ ảnh) \n",
        "Y_train\n",
        "# Problem: Cần thống kê dữ liệu \n",
        "# (thống kê sl số xuất hiện có đc phân bố đều hay k)"
      ],
      "execution_count": 12,
      "outputs": [
        {
          "output_type": "execute_result",
          "data": {
            "text/plain": [
              "array([5, 0, 4, 1, 9, 2, 1, 3, 1, 4, 3, 5, 3, 6, 1, 7, 2, 8, 6, 9, 4, 0,\n",
              "       9, 1, 1, 2, 4, 3, 2, 7, 3, 8, 6, 9, 0, 5, 6, 0, 7, 6, 1, 8, 7, 9,\n",
              "       3, 9, 8, 5, 9, 3, 3, 0, 7, 4, 9, 8, 0, 9, 4, 1, 4, 4, 6, 0, 4, 5,\n",
              "       6, 1, 0, 0, 1, 7, 1, 6, 3, 0, 2, 1, 1, 7, 9, 0, 2, 6, 7, 8, 3, 9,\n",
              "       0, 4, 6, 7, 4, 6, 8, 0, 7, 8, 3, 1, 5, 7, 1, 7, 1, 1, 6, 3, 0, 2,\n",
              "       9, 3, 1, 1, 0, 4, 9, 2, 0, 0, 2, 0, 2, 7, 1, 8, 6, 4, 1, 6, 3, 4,\n",
              "       5, 9, 1, 3, 3, 8, 5, 4, 7, 7, 4, 2, 8, 5, 8, 6, 7, 3, 4, 6, 1, 9,\n",
              "       9, 6, 0, 3, 7, 2, 8, 2, 9, 4, 4, 6, 4, 9, 7, 0, 9, 2, 9, 5, 1, 5,\n",
              "       9, 1, 2, 3, 2, 3, 5, 9, 1, 7, 6, 2, 8, 2, 2, 5, 0, 7, 4, 9, 7, 8,\n",
              "       3, 2, 1, 1, 8, 3, 6, 1, 0, 3, 1, 0, 0, 1, 7, 2, 7, 3, 0, 4, 6, 5,\n",
              "       2, 6, 4, 7, 1, 8, 9, 9, 3, 0, 7, 1, 0, 2, 0, 3, 5, 4, 6, 5, 8, 6,\n",
              "       3, 7, 5, 8, 0, 9, 1, 0, 3, 1, 2, 2, 3, 3, 6, 4, 7, 5, 0, 6, 2, 7,\n",
              "       9, 8, 5, 9, 2, 1, 1, 4, 4, 5, 6, 4, 1, 2, 5, 3, 9, 3, 9, 0, 5, 9,\n",
              "       6, 5, 7, 4, 1, 3, 4, 0, 4, 8, 0, 4, 3, 6, 8, 7, 6, 0, 9, 7, 5, 7,\n",
              "       2, 1, 1, 6, 8, 9, 4, 1, 5, 2, 2, 9, 0, 3, 9, 6, 7, 2, 0, 3, 5, 4,\n",
              "       3, 6, 5, 8, 9, 5, 4, 7, 4, 2, 7, 3, 4, 8, 9, 1, 9, 2, 8, 7, 9, 1,\n",
              "       8, 7, 4, 1, 3, 1, 1, 0, 2, 3, 9, 4, 9, 2, 1, 6, 8, 4, 7, 7, 4, 4,\n",
              "       9, 2, 5, 7, 2, 4, 4, 2, 1, 9, 7, 2, 8, 7, 6, 9, 2, 2, 3, 8, 1, 6,\n",
              "       5, 1, 1, 0, 2, 6, 4, 5, 8, 3, 1, 5, 1, 9, 2, 7, 4, 4, 4, 8, 1, 5,\n",
              "       8, 9, 5, 6, 7, 9, 9, 3, 7, 0, 9, 0, 6, 6, 2, 3, 9, 0, 7, 5, 4, 8,\n",
              "       0, 9, 4, 1, 2, 8, 7, 1, 2, 6, 1, 0, 3, 0, 1, 1, 8, 2, 0, 3, 9, 4,\n",
              "       0, 5, 0, 6, 1, 7, 7, 8, 1, 9, 2, 0, 5, 1, 2, 2, 7, 3, 5, 4, 9, 7,\n",
              "       1, 8, 3, 9, 6, 0, 3, 1, 1, 2, 6, 3, 5, 7, 6, 8, 3, 9, 5, 8, 5, 7,\n",
              "       6, 1, 1, 3, 1, 7, 5, 5, 5, 2, 5, 8, 7, 0, 9, 7, 7, 5, 0, 9, 0, 0,\n",
              "       8, 9, 2, 4, 8, 1, 6, 1, 6, 5, 1, 8, 3, 4, 0, 5, 5, 8, 3, 6, 2, 3,\n",
              "       9, 2, 1, 1, 5, 2, 1, 3, 2, 8, 7, 3, 7, 2, 4, 6, 9, 7, 2, 4, 2, 8,\n",
              "       1, 1, 3, 8, 4, 0, 6, 5, 9, 3, 0, 9, 2, 4, 7, 1, 2, 9, 4, 2, 6, 1,\n",
              "       8, 9, 0, 6, 6, 7], dtype=uint8)"
            ]
          },
          "metadata": {
            "tags": []
          },
          "execution_count": 12
        }
      ]
    },
    {
      "cell_type": "code",
      "metadata": {
        "id": "ZWCV3B6YWSYq",
        "colab_type": "code",
        "outputId": "5ba7a0a1-3949-408e-f28e-41093850e535",
        "colab": {
          "base_uri": "https://localhost:8080/",
          "height": 218
        }
      },
      "source": [
        "# Thống kê sl số xuất hiện trên toàn bộ tập dữ liệu (tập FULL)\n",
        "print(\"Length of data: \",len(X_train_f))\n",
        "print(\"Number of class: \",len(np.unique(Y_train_f)))\n",
        "a,c = np.unique(Y_train_f, return_counts=True)\n",
        "for i in range(len(a)):\n",
        "  print(a[i],'\\t',c[i])"
      ],
      "execution_count": 13,
      "outputs": [
        {
          "output_type": "stream",
          "text": [
            "Length of data:  60000\n",
            "Number of class:  10\n",
            "0 \t 5923\n",
            "1 \t 6742\n",
            "2 \t 5958\n",
            "3 \t 6131\n",
            "4 \t 5842\n",
            "5 \t 5421\n",
            "6 \t 5918\n",
            "7 \t 6265\n",
            "8 \t 5851\n",
            "9 \t 5949\n"
          ],
          "name": "stdout"
        }
      ]
    },
    {
      "cell_type": "code",
      "metadata": {
        "id": "hHGm-2ozWSav",
        "colab_type": "code",
        "outputId": "19369a83-a462-4402-d1d7-ed7830bd317c",
        "colab": {
          "base_uri": "https://localhost:8080/",
          "height": 282
        }
      },
      "source": [
        "# Visualize\n",
        "t = X_train[1, :] \n",
        "plt.imshow(t, cmap = plt.get_cmap('gray_r'))"
      ],
      "execution_count": 14,
      "outputs": [
        {
          "output_type": "execute_result",
          "data": {
            "text/plain": [
              "<matplotlib.image.AxesImage at 0x7f1659cd0320>"
            ]
          },
          "metadata": {
            "tags": []
          },
          "execution_count": 14
        },
        {
          "output_type": "display_data",
          "data": {
            "image/png": "[encoded data removed]",
            "text/plain": [
              "<Figure size 432x288 with 1 Axes>"
            ]
          },
          "metadata": {
            "tags": [],
            "needs_background": "light"
          }
        }
      ]
    },
    {
      "cell_type": "code",
      "metadata": {
        "id": "-F0TqsGcXjtR",
        "colab_type": "code",
        "outputId": "51a64aee-9ce5-4c3a-e9bd-528b2a052ebc",
        "colab": {
          "base_uri": "https://localhost:8080/",
          "height": 322
        }
      },
      "source": [
        "# Visualize matrix 3x3 (number=7)\n",
        "plt.figure(figsize=(5,5))\n",
        "pics7_indices = np.where(Y_train == 7)\n",
        "for i in range(9):\n",
        "    plt.subplot(3,3,i+1)\n",
        "    plt.imshow(X_train[pics7_indices[0][i]],cmap='gray')\n",
        "plt.show()"
      ],
      "execution_count": 15,
      "outputs": [
        {
          "output_type": "display_data",
          "data": {
            "image/png": "[encoded data removed]",
            "text/plain": [
              "<Figure size 360x360 with 9 Axes>"
            ]
          },
          "metadata": {
            "tags": [],
            "needs_background": "light"
          }
        }
      ]
    },
    {
      "cell_type": "code",
      "metadata": {
        "id": "lXX7d2RzXlKo",
        "colab_type": "code",
        "colab": {}
      },
      "source": [
        "# Reshape là chuyển về dạng 2 dữ liệu 2 chiều (dữ liệu đầu vào là 3d-ray)\n",
        "X_train = X_train.reshape(600, -1)\n",
        "X_test = X_test.reshape(100, -1)"
      ],
      "execution_count": 0,
      "outputs": []
    },
    {
      "cell_type": "code",
      "metadata": {
        "id": "FLzQLGGuf_TK",
        "colab_type": "code",
        "colab": {}
      },
      "source": [
        "# Standard dataset về dạng kì vọng = 0, phương sai = 1\n",
        "SC = StandardScaler()\n",
        "X_train = SC.fit_transform(X_train)\n",
        "X_test = SC.fit_transform(X_test)"
      ],
      "execution_count": 0,
      "outputs": []
    },
    {
      "cell_type": "code",
      "metadata": {
        "id": "lAIaf1ZuhMTZ",
        "colab_type": "code",
        "outputId": "3970499c-efe8-4d29-8aab-0bab71525d4d",
        "colab": {
          "base_uri": "https://localhost:8080/",
          "height": 101
        }
      },
      "source": [
        "# Preprocessing - Trainning data\n",
        "from sklearn.linear_model import LogisticRegression\n",
        "classifier = LogisticRegression(random_state=0,max_iter=600)\n",
        "classifier.fit(X_train,Y_train)"
      ],
      "execution_count": 18,
      "outputs": [
        {
          "output_type": "execute_result",
          "data": {
            "text/plain": [
              "LogisticRegression(C=1.0, class_weight=None, dual=False, fit_intercept=True,\n",
              "                   intercept_scaling=1, l1_ratio=None, max_iter=600,\n",
              "                   multi_class='auto', n_jobs=None, penalty='l2',\n",
              "                   random_state=0, solver='lbfgs', tol=0.0001, verbose=0,\n",
              "                   warm_start=False)"
            ]
          },
          "metadata": {
            "tags": []
          },
          "execution_count": 18
        }
      ]
    },
    {
      "cell_type": "code",
      "metadata": {
        "id": "fN41WRYuieFJ",
        "colab_type": "code",
        "outputId": "d6d13139-fe15-45c3-a9a6-98541daace91",
        "colab": {
          "base_uri": "https://localhost:8080/",
          "height": 487
        }
      },
      "source": [
        "from sklearn.metrics import confusion_matrix\n",
        "# Compute confusion matrix to evaluate the accuracy of a classification..\n",
        "cm = confusion_matrix(Y_train,classifier.predict(X_train))\n",
        "cm1 = confusion_matrix(Y_test,classifier.predict(X_test))\n",
        "print(\"\\n Train data\\n\",cm)\n",
        "print (\"\\nTest data\\n\", cm1)\n",
        "\n",
        "# Computes subset accuracy\n",
        "acc = []\n",
        "acc1 = []\n",
        "acc.append(accuracy_score(Y_train, classifier.predict(X_train)))\n",
        "acc1.append(accuracy_score(Y_test, classifier.predict(X_test)))\n",
        "print(\"\\nAccuracy: \",acc)\n",
        "print(\"\\nAccuracy: \",acc1)"
      ],
      "execution_count": 25,
      "outputs": [
        {
          "output_type": "stream",
          "text": [
            "\n",
            " Train data\n",
            " [[58  0  0  0  0  0  0  0  0  0]\n",
            " [ 0 79  0  0  0  0  0  0  0  0]\n",
            " [ 0  0 64  0  0  0  0  0  0  0]\n",
            " [ 0  0  0 59  0  0  0  0  0  0]\n",
            " [ 0  0  0  0 59  0  0  0  0  0]\n",
            " [ 0  0  0  0  0 51  0  0  0  0]\n",
            " [ 0  0  0  0  0  0 54  0  0  0]\n",
            " [ 0  0  0  0  0  0  0 62  0  0]\n",
            " [ 0  0  0  0  0  0  0  0 49  0]\n",
            " [ 0  0  0  0  0  0  0  0  0 65]]\n",
            "\n",
            "Test data\n",
            " [[ 8  0  0  0  0  0  0  0  0  0]\n",
            " [ 0 14  0  0  0  0  0  0  0  0]\n",
            " [ 0  0  7  0  0  1  0  0  0  0]\n",
            " [ 0  0  2  7  0  2  0  0  0  0]\n",
            " [ 0  0  0  0 12  1  0  0  0  1]\n",
            " [ 0  0  0  0  1  6  0  0  0  0]\n",
            " [ 0  0  2  0  0  0  8  0  0  0]\n",
            " [ 0  0  0  0  0  0  1 12  0  2]\n",
            " [ 0  0  0  0  0  0  0  0  2  0]\n",
            " [ 0  0  0  0  0  0  0  1  1  9]]\n",
            "\n",
            "Accuracy:  [1.0]\n",
            "\n",
            "Accuracy:  [0.85]\n"
          ],
          "name": "stdout"
        }
      ]
    },
    {
      "cell_type": "code",
      "metadata": {
        "id": "88ztqLDLieOo",
        "colab_type": "code",
        "colab": {}
      },
      "source": [
        ""
      ],
      "execution_count": 0,
      "outputs": []
    }
  ]
}